{
 "cells": [
  {
   "cell_type": "code",
   "execution_count": 1,
   "metadata": {},
   "outputs": [],
   "source": [
    "from synthesizer import *\n",
    "import pandas as pd\n",
    "from preset_synthesis import *\n",
    "import glob"
   ]
  },
  {
   "cell_type": "code",
   "execution_count": 2,
   "metadata": {},
   "outputs": [
    {
     "name": "stderr",
     "output_type": "stream",
     "text": [
      "C:\\Users\\lazu8\\AppData\\Local\\Temp\\ipykernel_26608\\4168390951.py:1: DtypeWarning: Columns (946,1264,1321,1378,1402,1426,1435,1462,1489,1504,1550,1551,1552,1553,1554,1555,1556,1557,1558,1559,1560,1561,1562,1563,1564,1565,1566,1567,1568,1569,1570,1571,1572,1573,1574,1575,1576,1577,1578,1579,1580,1581,1582,1583,1584,1585,1586,1587,1588,1589,1590,1591,1592,1593,1594,1595,1596,1597,1598,1599,1600,1601,1602,1603,1604,1605,1668,1677,1686,1698,1740,1794,1851,1884,1914,1923,1938,1953,2004,2016,2115,2322) have mixed types. Specify dtype option on import or set low_memory=False.\n",
      "  bass_train = pd.read_csv('../data/bass_train.csv')\n",
      "C:\\Users\\lazu8\\AppData\\Local\\Temp\\ipykernel_26608\\4168390951.py:2: DtypeWarning: Columns (946,1321,1378,1426,1489,1604,1605,1668,1686,1698,1740,1851,1884,1914,1953,2259,2274,2348) have mixed types. Specify dtype option on import or set low_memory=False.\n",
      "  keys_train = pd.read_csv('../data/keys_train.csv')\n"
     ]
    }
   ],
   "source": [
    "bass_train = pd.read_csv('../data/bass_train.csv')\n",
    "keys_train = pd.read_csv('../data/keys_train.csv')\n",
    "pluck_train = pd.read_csv('../data/pluck_train.csv')\n",
    "seq_train = pd.read_csv('../data/seq_train.csv')\n",
    "drums_train = pd.read_csv('../data/drums_train.csv')\n",
    "chord_train = pd.read_csv('../data/chord_train.csv')\n",
    "arp_train = pd.read_csv('../data/arp_train.csv')"
   ]
  },
  {
   "cell_type": "markdown",
   "metadata": {},
   "source": [
    "# Train"
   ]
  },
  {
   "cell_type": "code",
   "execution_count": 3,
   "metadata": {},
   "outputs": [],
   "source": [
    "# generate_synthesizer(arp_train, \"Arp\")\n",
    "# generate_synthesizer(chord_train, \"Chord\") #Model training took 00:01:32 (hh:mm:ss)\n",
    "# generate_synthesizer(drums_train, \"Drums\") #Model training took 00:02:01 (hh:mm:ss)\n",
    "# generate_synthesizer(seq_train, \"Seq\") #Model training took 00:02:11 (hh:mm:ss)\n",
    "# generate_synthesizer(pluck_train, \"Pluck\") #Model training took 00:01:44 (hh:mm:ss)\n",
    "# generate_synthesizer(keys_train, \"Keys\") #Model training took 00:03:08 (hh:mm:ss)\n",
    "# generate_synthesizer(bass_train, \"Bass\") #Model training took 00:05:48 (hh:mm:ss)\n",
    "\n"
   ]
  },
  {
   "cell_type": "markdown",
   "metadata": {},
   "source": [
    "# Create Preset"
   ]
  },
  {
   "cell_type": "code",
   "execution_count": 4,
   "metadata": {},
   "outputs": [
    {
     "name": "stdout",
     "output_type": "stream",
     "text": [
      "Saved ../vital_output\\Arp_synthesizer\\AIU_Preset_1.json\n",
      "Saved ../vital_output\\Arp_synthesizer\\AIU_Preset_2.json\n",
      "Saved ../vital_output\\Arp_synthesizer\\AIU_Preset_3.json\n",
      "Saved ../vital_output\\Arp_synthesizer\\AIU_Preset_4.json\n",
      "Saved ../vital_output\\Arp_synthesizer\\AIU_Preset_5.json\n",
      "Saved ../vital_output\\Arp_synthesizer\\AIU_Preset_6.json\n",
      "Saved ../vital_output\\Arp_synthesizer\\AIU_Preset_7.json\n",
      "Saved ../vital_output\\Arp_synthesizer\\AIU_Preset_8.json\n",
      "Saved ../vital_output\\Arp_synthesizer\\AIU_Preset_9.json\n",
      "Saved ../vital_output\\Arp_synthesizer\\AIU_Preset_10.json\n",
      "Saved ../vital_output\\Bass_synthesizer\\AIU_Preset_1.json\n",
      "Saved ../vital_output\\Bass_synthesizer\\AIU_Preset_2.json\n",
      "Saved ../vital_output\\Bass_synthesizer\\AIU_Preset_3.json\n",
      "Saved ../vital_output\\Bass_synthesizer\\AIU_Preset_4.json\n",
      "Saved ../vital_output\\Bass_synthesizer\\AIU_Preset_5.json\n",
      "Saved ../vital_output\\Bass_synthesizer\\AIU_Preset_6.json\n",
      "Saved ../vital_output\\Bass_synthesizer\\AIU_Preset_7.json\n",
      "Saved ../vital_output\\Bass_synthesizer\\AIU_Preset_8.json\n",
      "Saved ../vital_output\\Bass_synthesizer\\AIU_Preset_9.json\n",
      "Saved ../vital_output\\Bass_synthesizer\\AIU_Preset_10.json\n",
      "Saved ../vital_output\\Chord_synthesizer\\AIU_Preset_1.json\n",
      "Saved ../vital_output\\Chord_synthesizer\\AIU_Preset_2.json\n",
      "Saved ../vital_output\\Chord_synthesizer\\AIU_Preset_3.json\n",
      "Saved ../vital_output\\Chord_synthesizer\\AIU_Preset_4.json\n",
      "Saved ../vital_output\\Chord_synthesizer\\AIU_Preset_5.json\n",
      "Saved ../vital_output\\Chord_synthesizer\\AIU_Preset_6.json\n",
      "Saved ../vital_output\\Chord_synthesizer\\AIU_Preset_7.json\n",
      "Saved ../vital_output\\Chord_synthesizer\\AIU_Preset_8.json\n",
      "Saved ../vital_output\\Chord_synthesizer\\AIU_Preset_9.json\n",
      "Saved ../vital_output\\Chord_synthesizer\\AIU_Preset_10.json\n",
      "Saved ../vital_output\\Drums_synthesizer\\AIU_Preset_1.json\n",
      "Saved ../vital_output\\Drums_synthesizer\\AIU_Preset_2.json\n",
      "Saved ../vital_output\\Drums_synthesizer\\AIU_Preset_3.json\n",
      "Saved ../vital_output\\Drums_synthesizer\\AIU_Preset_4.json\n",
      "Saved ../vital_output\\Drums_synthesizer\\AIU_Preset_5.json\n",
      "Saved ../vital_output\\Drums_synthesizer\\AIU_Preset_6.json\n",
      "Saved ../vital_output\\Drums_synthesizer\\AIU_Preset_7.json\n",
      "Saved ../vital_output\\Drums_synthesizer\\AIU_Preset_8.json\n",
      "Saved ../vital_output\\Drums_synthesizer\\AIU_Preset_9.json\n",
      "Saved ../vital_output\\Drums_synthesizer\\AIU_Preset_10.json\n",
      "Saved ../vital_output\\Keys_synthesizer\\AIU_Preset_1.json\n",
      "Saved ../vital_output\\Keys_synthesizer\\AIU_Preset_2.json\n",
      "Saved ../vital_output\\Keys_synthesizer\\AIU_Preset_3.json\n",
      "Saved ../vital_output\\Keys_synthesizer\\AIU_Preset_4.json\n",
      "Saved ../vital_output\\Keys_synthesizer\\AIU_Preset_5.json\n",
      "Saved ../vital_output\\Keys_synthesizer\\AIU_Preset_6.json\n",
      "Saved ../vital_output\\Keys_synthesizer\\AIU_Preset_7.json\n",
      "Saved ../vital_output\\Keys_synthesizer\\AIU_Preset_8.json\n",
      "Saved ../vital_output\\Keys_synthesizer\\AIU_Preset_9.json\n",
      "Saved ../vital_output\\Keys_synthesizer\\AIU_Preset_10.json\n",
      "Saved ../vital_output\\Pluck_synthesizer\\AIU_Preset_1.json\n",
      "Saved ../vital_output\\Pluck_synthesizer\\AIU_Preset_2.json\n",
      "Saved ../vital_output\\Pluck_synthesizer\\AIU_Preset_3.json\n",
      "Saved ../vital_output\\Pluck_synthesizer\\AIU_Preset_4.json\n",
      "Saved ../vital_output\\Pluck_synthesizer\\AIU_Preset_5.json\n",
      "Saved ../vital_output\\Pluck_synthesizer\\AIU_Preset_6.json\n",
      "Saved ../vital_output\\Pluck_synthesizer\\AIU_Preset_7.json\n",
      "Saved ../vital_output\\Pluck_synthesizer\\AIU_Preset_8.json\n",
      "Saved ../vital_output\\Pluck_synthesizer\\AIU_Preset_9.json\n",
      "Saved ../vital_output\\Pluck_synthesizer\\AIU_Preset_10.json\n",
      "Saved ../vital_output\\Seq_synthesizer\\AIU_Preset_1.json\n",
      "Saved ../vital_output\\Seq_synthesizer\\AIU_Preset_2.json\n",
      "Saved ../vital_output\\Seq_synthesizer\\AIU_Preset_3.json\n",
      "Saved ../vital_output\\Seq_synthesizer\\AIU_Preset_4.json\n",
      "Saved ../vital_output\\Seq_synthesizer\\AIU_Preset_5.json\n",
      "Saved ../vital_output\\Seq_synthesizer\\AIU_Preset_6.json\n",
      "Saved ../vital_output\\Seq_synthesizer\\AIU_Preset_7.json\n",
      "Saved ../vital_output\\Seq_synthesizer\\AIU_Preset_8.json\n",
      "Saved ../vital_output\\Seq_synthesizer\\AIU_Preset_9.json\n",
      "Saved ../vital_output\\Seq_synthesizer\\AIU_Preset_10.json\n"
     ]
    }
   ],
   "source": [
    "# 폴더 안에 있는 모델에 대해 gen_num만큼 프리셋 파일 생성\n",
    "\n",
    "\n",
    "pkl_files = glob.glob(os.path.join(model_directory, '*.pkl'))\n",
    "\n",
    "for file in pkl_files:\n",
    "    # Extract the file name without extension\n",
    "    synth = pd.read_pickle(file)\n",
    "    file_name = os.path.basename(file).split('.')[0]\n",
    "    out_dir = create_output_folder(file_name)\n",
    "    working_df = preset_synthesis(synth, gen_num)\n",
    "    post_processing(out_dir, working_df)\n"
   ]
  }
 ],
 "metadata": {
  "kernelspec": {
   "display_name": "flyai_env",
   "language": "python",
   "name": "python3"
  },
  "language_info": {
   "codemirror_mode": {
    "name": "ipython",
    "version": 3
   },
   "file_extension": ".py",
   "mimetype": "text/x-python",
   "name": "python",
   "nbconvert_exporter": "python",
   "pygments_lexer": "ipython3",
   "version": "3.9.19"
  }
 },
 "nbformat": 4,
 "nbformat_minor": 2
}
