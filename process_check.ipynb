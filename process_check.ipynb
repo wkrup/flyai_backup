{
 "cells": [
  {
   "cell_type": "code",
   "execution_count": 19,
   "metadata": {},
   "outputs": [],
   "source": [
    "import pandas as pd"
   ]
  },
  {
   "cell_type": "code",
   "execution_count": 36,
   "metadata": {},
   "outputs": [
    {
     "name": "stderr",
     "output_type": "stream",
     "text": [
      "C:\\Users\\lazu8\\AppData\\Local\\Temp\\ipykernel_20316\\2628661744.py:1: DtypeWarning: Columns (946,1264,1321,1378,1402,1426,1435,1462,1489,1504,1550,1551,1552,1553,1554,1555,1556,1557,1558,1559,1560,1561,1562,1563,1564,1565,1566,1567,1568,1569,1570,1571,1572,1573,1574,1575,1576,1577,1578,1579,1580,1581,1582,1583,1584,1585,1586,1587,1588,1589,1590,1591,1592,1593,1594,1595,1596,1597,1598,1599,1600,1601,1602,1603,1604,1605,1668,1677,1686,1698,1740,1794,1851,1884,1914,1923,1938,1953,2004,2016,2115,2322) have mixed types. Specify dtype option on import or set low_memory=False.\n",
      "  bass_train = pd.read_csv('data/bass_train.csv')\n",
      "C:\\Users\\lazu8\\AppData\\Local\\Temp\\ipykernel_20316\\2628661744.py:2: DtypeWarning: Columns (946,1321,1378,1426,1489,1604,1605,1668,1686,1698,1740,1851,1884,1914,1953,2259,2274,2348) have mixed types. Specify dtype option on import or set low_memory=False.\n",
      "  keys_train = pd.read_csv('data/keys_train.csv')\n"
     ]
    }
   ],
   "source": [
    "bass_train = pd.read_csv('data/bass_train.csv')\n",
    "keys_train = pd.read_csv('data/keys_train.csv')\n",
    "pluck_train = pd.read_csv('data/pluck_train.csv')\n",
    "seq_train = pd.read_csv('data/seq_train.csv')\n",
    "drums_train = pd.read_csv('data/drums_train.csv')\n",
    "chord_train = pd.read_csv('data/chord_train.csv')\n",
    "arp_train = pd.read_csv('data/arp_train.csv')"
   ]
  },
  {
   "cell_type": "code",
   "execution_count": 21,
   "metadata": {},
   "outputs": [
    {
     "data": {
      "text/plain": [
       "1256"
      ]
     },
     "execution_count": 21,
     "metadata": {},
     "output_type": "execute_result"
    }
   ],
   "source": [
    "len(bass_train)"
   ]
  },
  {
   "cell_type": "code",
   "execution_count": 22,
   "metadata": {},
   "outputs": [
    {
     "data": {
      "text/plain": [
       "genre\n",
       "Bass House               80\n",
       "Breakbeat / Breaks      105\n",
       "Drum and Bass           100\n",
       "Dubstep                 100\n",
       "Hardcore / Hardstyle     84\n",
       "Hip-Hop / R&B            96\n",
       "House                    93\n",
       "Midtempo                106\n",
       "Multigenre              100\n",
       "Other                    88\n",
       "Synthwave               100\n",
       "Techno                  100\n",
       "Trap                    104\n",
       "Name: sound_type, dtype: int64"
      ]
     },
     "execution_count": 22,
     "metadata": {},
     "output_type": "execute_result"
    }
   ],
   "source": [
    "bass_train.groupby('genre')['sound_type'].count()"
   ]
  },
  {
   "cell_type": "code",
   "execution_count": 23,
   "metadata": {},
   "outputs": [
    {
     "data": {
      "text/plain": [
       "469"
      ]
     },
     "execution_count": 23,
     "metadata": {},
     "output_type": "execute_result"
    }
   ],
   "source": [
    "len(keys_train)"
   ]
  },
  {
   "cell_type": "code",
   "execution_count": 24,
   "metadata": {},
   "outputs": [
    {
     "data": {
      "text/plain": [
       "genre\n",
       "Ambient          68\n",
       "Cinematic        68\n",
       "Hip-Hop / R&B    68\n",
       "House            74\n",
       "Multigenre       75\n",
       "Other            56\n",
       "Synthwave        60\n",
       "Name: sound_type, dtype: int64"
      ]
     },
     "execution_count": 24,
     "metadata": {},
     "output_type": "execute_result"
    }
   ],
   "source": [
    "keys_train.groupby('genre')['sound_type'].count()"
   ]
  },
  {
   "cell_type": "code",
   "execution_count": 25,
   "metadata": {},
   "outputs": [
    {
     "data": {
      "text/plain": [
       "77"
      ]
     },
     "execution_count": 25,
     "metadata": {},
     "output_type": "execute_result"
    }
   ],
   "source": [
    "len(pluck_train)"
   ]
  },
  {
   "cell_type": "code",
   "execution_count": 26,
   "metadata": {},
   "outputs": [
    {
     "data": {
      "text/plain": [
       "genre\n",
       "Drum and Bass    26\n",
       "House            21\n",
       "Multigenre       30\n",
       "Name: sound_type, dtype: int64"
      ]
     },
     "execution_count": 26,
     "metadata": {},
     "output_type": "execute_result"
    }
   ],
   "source": [
    "pluck_train.groupby('genre')['sound_type'].count()"
   ]
  },
  {
   "cell_type": "code",
   "execution_count": 27,
   "metadata": {},
   "outputs": [
    {
     "data": {
      "text/plain": [
       "139"
      ]
     },
     "execution_count": 27,
     "metadata": {},
     "output_type": "execute_result"
    }
   ],
   "source": [
    "len(seq_train)"
   ]
  },
  {
   "cell_type": "code",
   "execution_count": 28,
   "metadata": {},
   "outputs": [
    {
     "data": {
      "text/plain": [
       "genre\n",
       "Ambient       18\n",
       "Cinematic     20\n",
       "Multigenre    22\n",
       "Other         21\n",
       "Psytrance     18\n",
       "Synthwave     20\n",
       "Techno        20\n",
       "Name: sound_type, dtype: int64"
      ]
     },
     "execution_count": 28,
     "metadata": {},
     "output_type": "execute_result"
    }
   ],
   "source": [
    "seq_train.groupby('genre')['sound_type'].count()"
   ]
  },
  {
   "cell_type": "code",
   "execution_count": 31,
   "metadata": {},
   "outputs": [
    {
     "data": {
      "text/plain": [
       "238"
      ]
     },
     "execution_count": 31,
     "metadata": {},
     "output_type": "execute_result"
    }
   ],
   "source": [
    "len(drums_train)"
   ]
  },
  {
   "cell_type": "code",
   "execution_count": 32,
   "metadata": {},
   "outputs": [
    {
     "data": {
      "text/plain": [
       "genre\n",
       "Cinematic               30\n",
       "Drum and Bass           30\n",
       "Hardcore / Hardstyle    28\n",
       "House                   30\n",
       "Multigenre              30\n",
       "Other                   30\n",
       "Synthwave               30\n",
       "Techno                  30\n",
       "Name: sound_type, dtype: int64"
      ]
     },
     "execution_count": 32,
     "metadata": {},
     "output_type": "execute_result"
    }
   ],
   "source": [
    "drums_train.groupby('genre')['sound_type'].count()"
   ]
  },
  {
   "cell_type": "code",
   "execution_count": 34,
   "metadata": {},
   "outputs": [
    {
     "data": {
      "text/plain": [
       "76"
      ]
     },
     "execution_count": 34,
     "metadata": {},
     "output_type": "execute_result"
    }
   ],
   "source": [
    "len(chord_train)"
   ]
  },
  {
   "cell_type": "code",
   "execution_count": 35,
   "metadata": {},
   "outputs": [
    {
     "data": {
      "text/plain": [
       "genre\n",
       "Future Bass    14\n",
       "House          19\n",
       "Multigenre     12\n",
       "Other          16\n",
       "Techno         15\n",
       "Name: sound_type, dtype: int64"
      ]
     },
     "execution_count": 35,
     "metadata": {},
     "output_type": "execute_result"
    }
   ],
   "source": [
    "chord_train.groupby('genre')['sound_type'].count()"
   ]
  },
  {
   "cell_type": "code",
   "execution_count": 37,
   "metadata": {},
   "outputs": [
    {
     "data": {
      "text/plain": [
       "63"
      ]
     },
     "execution_count": 37,
     "metadata": {},
     "output_type": "execute_result"
    }
   ],
   "source": [
    "len(arp_train)"
   ]
  },
  {
   "cell_type": "code",
   "execution_count": 38,
   "metadata": {},
   "outputs": [
    {
     "data": {
      "text/plain": [
       "genre\n",
       "Future Bass    15\n",
       "Multigenre     17\n",
       "Other          15\n",
       "Synthwave      16\n",
       "Name: sound_type, dtype: int64"
      ]
     },
     "execution_count": 38,
     "metadata": {},
     "output_type": "execute_result"
    }
   ],
   "source": [
    "arp_train.groupby('genre')['sound_type'].count()"
   ]
  },
  {
   "cell_type": "code",
   "execution_count": null,
   "metadata": {},
   "outputs": [],
   "source": []
  }
 ],
 "metadata": {
  "kernelspec": {
   "display_name": "flyai_env",
   "language": "python",
   "name": "python3"
  },
  "language_info": {
   "codemirror_mode": {
    "name": "ipython",
    "version": 3
   },
   "file_extension": ".py",
   "mimetype": "text/x-python",
   "name": "python",
   "nbconvert_exporter": "python",
   "pygments_lexer": "ipython3",
   "version": "3.9.19"
  }
 },
 "nbformat": 4,
 "nbformat_minor": 2
}
