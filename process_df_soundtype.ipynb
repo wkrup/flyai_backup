{
 "cells": [
  {
   "cell_type": "code",
   "execution_count": 1,
   "metadata": {},
   "outputs": [],
   "source": [
    "import pandas as pd"
   ]
  },
  {
   "cell_type": "code",
   "execution_count": 2,
   "metadata": {},
   "outputs": [
    {
     "name": "stderr",
     "output_type": "stream",
     "text": [
      "C:\\Users\\SKT\\AppData\\Local\\Temp\\ipykernel_24360\\3343762605.py:1: DtypeWarning: Columns (946,1264,1321,1378,1426,1435,1462,1489,1504,1519,1530,1531,1532,1533,1534,1535,1536,1537,1538,1539,1540,1541,1542,1543,1544,1545,1546,1547,1548,1549,1550,1551,1552,1553,1554,1555,1556,1557,1558,1559,1560,1561,1562,1563,1564,1565,1566,1567,1568,1569,1570,1571,1572,1573,1574,1575,1576,1577,1578,1579,1580,1581,1582,1583,1584,1585,1586,1587,1588,1589,1590,1591,1592,1593,1594,1595,1596,1597,1598,1599,1600,1601,1602,1603,1604,1605,1606,1607,1608,1609,1610,1611,1668,1677,1686,1698,1710,1722,1740,1779,1794,1851,1884,1914,1923,1938,1953,2004,2016,2115,2244,2259,2274,2322,2331,2332,2333,2348,2381,2459,2507,2549,2588,2603,2618) have mixed types. Specify dtype option on import or set low_memory=False.\n",
      "  df = pd.read_csv('data/preprocessed_preset_240814.csv')\n"
     ]
    }
   ],
   "source": [
    "df = pd.read_csv('data/preprocessed_preset_240814.csv')"
   ]
  },
  {
   "cell_type": "code",
   "execution_count": 4,
   "metadata": {},
   "outputs": [
    {
     "data": {
      "text/html": [
       "<div>\n",
       "<style scoped>\n",
       "    .dataframe tbody tr th:only-of-type {\n",
       "        vertical-align: middle;\n",
       "    }\n",
       "\n",
       "    .dataframe tbody tr th {\n",
       "        vertical-align: top;\n",
       "    }\n",
       "\n",
       "    .dataframe thead th {\n",
       "        text-align: right;\n",
       "    }\n",
       "</style>\n",
       "<table border=\"1\" class=\"dataframe\">\n",
       "  <thead>\n",
       "    <tr style=\"text-align: right;\">\n",
       "      <th></th>\n",
       "      <th>genre</th>\n",
       "      <th>sound_type</th>\n",
       "      <th>preset_name</th>\n",
       "      <th>preset_style</th>\n",
       "      <th>settings-beats_per_minute</th>\n",
       "      <th>settings-bypass</th>\n",
       "      <th>settings-chorus_cutoff</th>\n",
       "      <th>settings-chorus_delay_1</th>\n",
       "      <th>settings-chorus_delay_2</th>\n",
       "      <th>settings-chorus_dry_wet</th>\n",
       "      <th>...</th>\n",
       "      <th>settings-modulations-6-line_mapping-points-28</th>\n",
       "      <th>settings-modulations-6-line_mapping-points-29</th>\n",
       "      <th>settings-modulations-6-line_mapping-points-30</th>\n",
       "      <th>settings-modulations-6-line_mapping-points-31</th>\n",
       "      <th>settings-modulations-6-line_mapping-powers-10</th>\n",
       "      <th>settings-modulations-6-line_mapping-powers-11</th>\n",
       "      <th>settings-modulations-6-line_mapping-powers-12</th>\n",
       "      <th>settings-modulations-6-line_mapping-powers-13</th>\n",
       "      <th>settings-modulations-6-line_mapping-powers-14</th>\n",
       "      <th>settings-modulations-6-line_mapping-powers-15</th>\n",
       "    </tr>\n",
       "  </thead>\n",
       "  <tbody>\n",
       "    <tr>\n",
       "      <th>0</th>\n",
       "      <td>Synthwave</td>\n",
       "      <td>Synth</td>\n",
       "      <td>preset_name_1</td>\n",
       "      <td>Keys</td>\n",
       "      <td>1.650000</td>\n",
       "      <td>0.0</td>\n",
       "      <td>89.170738</td>\n",
       "      <td>-9.000000</td>\n",
       "      <td>-7.000000</td>\n",
       "      <td>0.10500</td>\n",
       "      <td>...</td>\n",
       "      <td>NaN</td>\n",
       "      <td>NaN</td>\n",
       "      <td>NaN</td>\n",
       "      <td>NaN</td>\n",
       "      <td>NaN</td>\n",
       "      <td>NaN</td>\n",
       "      <td>NaN</td>\n",
       "      <td>NaN</td>\n",
       "      <td>NaN</td>\n",
       "      <td>NaN</td>\n",
       "    </tr>\n",
       "    <tr>\n",
       "      <th>1</th>\n",
       "      <td>Multigenre</td>\n",
       "      <td>Keys</td>\n",
       "      <td>preset_name_2</td>\n",
       "      <td>Keys</td>\n",
       "      <td>2.166667</td>\n",
       "      <td>0.0</td>\n",
       "      <td>60.000000</td>\n",
       "      <td>-9.000000</td>\n",
       "      <td>-7.000000</td>\n",
       "      <td>0.50000</td>\n",
       "      <td>...</td>\n",
       "      <td>NaN</td>\n",
       "      <td>NaN</td>\n",
       "      <td>NaN</td>\n",
       "      <td>NaN</td>\n",
       "      <td>NaN</td>\n",
       "      <td>NaN</td>\n",
       "      <td>NaN</td>\n",
       "      <td>NaN</td>\n",
       "      <td>NaN</td>\n",
       "      <td>NaN</td>\n",
       "    </tr>\n",
       "    <tr>\n",
       "      <th>2</th>\n",
       "      <td>Dubstep</td>\n",
       "      <td>Bass</td>\n",
       "      <td>preset_name_3</td>\n",
       "      <td>Bass</td>\n",
       "      <td>2.000000</td>\n",
       "      <td>0.0</td>\n",
       "      <td>93.243370</td>\n",
       "      <td>-8.613684</td>\n",
       "      <td>-5.951427</td>\n",
       "      <td>0.24662</td>\n",
       "      <td>...</td>\n",
       "      <td>NaN</td>\n",
       "      <td>NaN</td>\n",
       "      <td>NaN</td>\n",
       "      <td>NaN</td>\n",
       "      <td>NaN</td>\n",
       "      <td>NaN</td>\n",
       "      <td>NaN</td>\n",
       "      <td>NaN</td>\n",
       "      <td>NaN</td>\n",
       "      <td>NaN</td>\n",
       "    </tr>\n",
       "    <tr>\n",
       "      <th>3</th>\n",
       "      <td>Halfstep</td>\n",
       "      <td>Reese</td>\n",
       "      <td>preset_name_4</td>\n",
       "      <td>Bass</td>\n",
       "      <td>1.450000</td>\n",
       "      <td>0.0</td>\n",
       "      <td>105.500000</td>\n",
       "      <td>-7.584501</td>\n",
       "      <td>-6.506352</td>\n",
       "      <td>0.40000</td>\n",
       "      <td>...</td>\n",
       "      <td>NaN</td>\n",
       "      <td>NaN</td>\n",
       "      <td>NaN</td>\n",
       "      <td>NaN</td>\n",
       "      <td>NaN</td>\n",
       "      <td>NaN</td>\n",
       "      <td>NaN</td>\n",
       "      <td>NaN</td>\n",
       "      <td>NaN</td>\n",
       "      <td>NaN</td>\n",
       "    </tr>\n",
       "    <tr>\n",
       "      <th>4</th>\n",
       "      <td>Cinematic</td>\n",
       "      <td>Pad</td>\n",
       "      <td>preset_name_5</td>\n",
       "      <td>Pad</td>\n",
       "      <td>2.000000</td>\n",
       "      <td>0.0</td>\n",
       "      <td>60.000000</td>\n",
       "      <td>-9.000000</td>\n",
       "      <td>-7.000000</td>\n",
       "      <td>0.00000</td>\n",
       "      <td>...</td>\n",
       "      <td>NaN</td>\n",
       "      <td>NaN</td>\n",
       "      <td>NaN</td>\n",
       "      <td>NaN</td>\n",
       "      <td>NaN</td>\n",
       "      <td>NaN</td>\n",
       "      <td>NaN</td>\n",
       "      <td>NaN</td>\n",
       "      <td>NaN</td>\n",
       "      <td>NaN</td>\n",
       "    </tr>\n",
       "  </tbody>\n",
       "</table>\n",
       "<p>5 rows × 2637 columns</p>\n",
       "</div>"
      ],
      "text/plain": [
       "        genre sound_type    preset_name preset_style  \\\n",
       "0   Synthwave      Synth  preset_name_1         Keys   \n",
       "1  Multigenre       Keys  preset_name_2         Keys   \n",
       "2     Dubstep       Bass  preset_name_3         Bass   \n",
       "3    Halfstep      Reese  preset_name_4         Bass   \n",
       "4   Cinematic        Pad  preset_name_5          Pad   \n",
       "\n",
       "   settings-beats_per_minute  settings-bypass  settings-chorus_cutoff  \\\n",
       "0                   1.650000              0.0               89.170738   \n",
       "1                   2.166667              0.0               60.000000   \n",
       "2                   2.000000              0.0               93.243370   \n",
       "3                   1.450000              0.0              105.500000   \n",
       "4                   2.000000              0.0               60.000000   \n",
       "\n",
       "   settings-chorus_delay_1  settings-chorus_delay_2  settings-chorus_dry_wet  \\\n",
       "0                -9.000000                -7.000000                  0.10500   \n",
       "1                -9.000000                -7.000000                  0.50000   \n",
       "2                -8.613684                -5.951427                  0.24662   \n",
       "3                -7.584501                -6.506352                  0.40000   \n",
       "4                -9.000000                -7.000000                  0.00000   \n",
       "\n",
       "   ...  settings-modulations-6-line_mapping-points-28  \\\n",
       "0  ...                                            NaN   \n",
       "1  ...                                            NaN   \n",
       "2  ...                                            NaN   \n",
       "3  ...                                            NaN   \n",
       "4  ...                                            NaN   \n",
       "\n",
       "   settings-modulations-6-line_mapping-points-29  \\\n",
       "0                                            NaN   \n",
       "1                                            NaN   \n",
       "2                                            NaN   \n",
       "3                                            NaN   \n",
       "4                                            NaN   \n",
       "\n",
       "   settings-modulations-6-line_mapping-points-30  \\\n",
       "0                                            NaN   \n",
       "1                                            NaN   \n",
       "2                                            NaN   \n",
       "3                                            NaN   \n",
       "4                                            NaN   \n",
       "\n",
       "   settings-modulations-6-line_mapping-points-31  \\\n",
       "0                                            NaN   \n",
       "1                                            NaN   \n",
       "2                                            NaN   \n",
       "3                                            NaN   \n",
       "4                                            NaN   \n",
       "\n",
       "   settings-modulations-6-line_mapping-powers-10  \\\n",
       "0                                            NaN   \n",
       "1                                            NaN   \n",
       "2                                            NaN   \n",
       "3                                            NaN   \n",
       "4                                            NaN   \n",
       "\n",
       "   settings-modulations-6-line_mapping-powers-11  \\\n",
       "0                                            NaN   \n",
       "1                                            NaN   \n",
       "2                                            NaN   \n",
       "3                                            NaN   \n",
       "4                                            NaN   \n",
       "\n",
       "   settings-modulations-6-line_mapping-powers-12  \\\n",
       "0                                            NaN   \n",
       "1                                            NaN   \n",
       "2                                            NaN   \n",
       "3                                            NaN   \n",
       "4                                            NaN   \n",
       "\n",
       "   settings-modulations-6-line_mapping-powers-13  \\\n",
       "0                                            NaN   \n",
       "1                                            NaN   \n",
       "2                                            NaN   \n",
       "3                                            NaN   \n",
       "4                                            NaN   \n",
       "\n",
       "   settings-modulations-6-line_mapping-powers-14  \\\n",
       "0                                            NaN   \n",
       "1                                            NaN   \n",
       "2                                            NaN   \n",
       "3                                            NaN   \n",
       "4                                            NaN   \n",
       "\n",
       "   settings-modulations-6-line_mapping-powers-15  \n",
       "0                                            NaN  \n",
       "1                                            NaN  \n",
       "2                                            NaN  \n",
       "3                                            NaN  \n",
       "4                                            NaN  \n",
       "\n",
       "[5 rows x 2637 columns]"
      ]
     },
     "execution_count": 4,
     "metadata": {},
     "output_type": "execute_result"
    }
   ],
   "source": [
    "df.head()"
   ]
  },
  {
   "cell_type": "code",
   "execution_count": 114,
   "metadata": {},
   "outputs": [
    {
     "data": {
      "text/plain": [
       "array(['Synth', 'Keys', 'Bass', 'Reese', 'Pad', 'Lead', 'Drums', 'Chord',\n",
       "       'Seq', 'Arp', 'Pluck', 'Stab', 'FX', 'Drone', 'Atmosphere',\n",
       "       'Other', 'Miscellaneous', 'Sub', 'Vox'], dtype=object)"
      ]
     },
     "execution_count": 114,
     "metadata": {},
     "output_type": "execute_result"
    }
   ],
   "source": [
    "df.sound_type.unique()"
   ]
  },
  {
   "cell_type": "markdown",
   "metadata": {},
   "source": [
    "# Bass"
   ]
  },
  {
   "cell_type": "code",
   "execution_count": 105,
   "metadata": {},
   "outputs": [],
   "source": [
    "df_bass = df.loc[df.sound_type == 'Bass']\n",
    "df_bass.reset_index(drop=True, inplace=True)\n",
    "\n",
    "###select by genre\n",
    "df_bass_drumbass = df_bass.loc[df_bass.genre == 'Drum and Bass']\n",
    "df_bass_drumbass.reset_index(drop=True, inplace=True)\n",
    "\n",
    "df_bass_dubstep = df_bass.loc[df_bass.genre == 'Dubstep']\n",
    "df_bass_dubstep.reset_index(drop=True, inplace=True)\n",
    "\n",
    "df_bass_multigenre = df_bass.loc[df_bass.genre == 'Multigenre']\n",
    "df_bass_multigenre.reset_index(drop=True, inplace=True)\n",
    "\n",
    "df_bass_house = df_bass.loc[df_bass.genre == 'House']\n",
    "df_bass_house.reset_index(drop=True, inplace=True)\n",
    "\n",
    "df_bass_midtempo = df_bass.loc[df_bass.genre == 'Midtempo']\n",
    "df_bass_midtempo.reset_index(drop=True, inplace=True)\n",
    "\n",
    "df_bass_synthwave = df_bass.loc[df_bass.genre == 'Synthwave']\n",
    "df_bass_synthwave.reset_index(drop=True, inplace=True)\n",
    "\n",
    "df_bass_hardcorestyle = df_bass.loc[df_bass.genre == 'Hardcore / Hardstyle']\n",
    "df_bass_hardcorestyle.reset_index(drop=True, inplace=True)\n",
    "\n",
    "df_bass_basshouse = df_bass.loc[df_bass.genre == 'Bass House']\n",
    "df_bass_basshouse.reset_index(drop=True, inplace=True)\n",
    "\n",
    "df_bass_breakbeatbreaks = df_bass.loc[df_bass.genre == 'Breakbeat / Breaks']\n",
    "df_bass_breakbeatbreaks.reset_index(drop=True, inplace=True)\n",
    "\n",
    "df_bass_techno = df_bass.loc[df_bass.genre == 'Techno']\n",
    "df_bass_techno.reset_index(drop=True, inplace=True)\n",
    "\n",
    "df_bass_trap = df_bass.loc[df_bass.genre == 'Trap']\n",
    "df_bass_trap.reset_index(drop=True, inplace=True)\n",
    "\n",
    "df_bass_hiphoprnb = df_bass.loc[df_bass.genre == 'Hip-Hop / R&B']\n",
    "df_bass_hiphoprnb.reset_index(drop=True, inplace=True)\n",
    "\n",
    "df_bass_other = df_bass.loc[df_bass.genre == 'Other']\n",
    "df_bass_other.reset_index(drop=True, inplace=True)\n"
   ]
  },
  {
   "cell_type": "code",
   "execution_count": 106,
   "metadata": {},
   "outputs": [
    {
     "name": "stdout",
     "output_type": "stream",
     "text": [
      "Drum Bass: 405\n",
      "Dubstep: 251\n",
      "Multigenre: 198\n",
      "House: 93\n",
      "Midtempo: 53\n",
      "Synthwave: 50\n",
      "Hardcore / Hardstyle: 42\n",
      "Bass House: 40\n",
      "Breakbeat / Breaks: 35\n",
      "Techno: 25\n",
      "Trap: 26\n",
      "Hip-Hop / R&B: 24\n",
      "Other: 22\n"
     ]
    }
   ],
   "source": [
    "print(\"Drum Bass: \" + str(len(df_bass_drumbass)))\n",
    "print(\"Dubstep: \" + str(len(df_bass_dubstep)))\n",
    "print(\"Multigenre: \" + str(len(df_bass_multigenre)))\n",
    "print(\"House: \" + str(len(df_bass_house)))\n",
    "print(\"Midtempo: \" + str(len(df_bass_midtempo)))\n",
    "print(\"Synthwave: \" + str(len(df_bass_synthwave)))\n",
    "print(\"Hardcore / Hardstyle: \" + str(len(df_bass_hardcorestyle)))\n",
    "print(\"Bass House: \" + str(len(df_bass_basshouse)))\n",
    "print(\"Breakbeat / Breaks: \" + str(len(df_bass_breakbeatbreaks)))\n",
    "print(\"Techno: \" + str(len(df_bass_techno)))\n",
    "print(\"Trap: \" + str(len(df_bass_trap)))\n",
    "print(\"Hip-Hop / R&B: \" + str(len(df_bass_hiphoprnb)))\n",
    "print(\"Other: \" + str(len(df_bass_other)))"
   ]
  },
  {
   "cell_type": "code",
   "execution_count": 107,
   "metadata": {},
   "outputs": [
    {
     "data": {
      "text/plain": [
       "array(['Dubstep', 'Multigenre', 'Breakbeat / Breaks', 'Bass House',\n",
       "       'House', 'UK Garage', 'Trap', 'Hip-Hop / R&B',\n",
       "       'Hardcore / Hardstyle', 'Synthwave', 'Drum and Bass', 'Midtempo',\n",
       "       'Techno', 'Cinematic', 'Other', 'Future Bass', 'Tech House',\n",
       "       'Psytrance', 'Trance', 'Halfstep', 'Ambient',\n",
       "       'Moombahton / Reggae'], dtype=object)"
      ]
     },
     "execution_count": 107,
     "metadata": {},
     "output_type": "execute_result"
    }
   ],
   "source": [
    "df_bass.genre.unique()"
   ]
  },
  {
   "cell_type": "markdown",
   "metadata": {},
   "source": [
    "# Keys"
   ]
  },
  {
   "cell_type": "code",
   "execution_count": 103,
   "metadata": {},
   "outputs": [],
   "source": [
    "df_keys = df.loc[df.sound_type == 'Keys']\n",
    "df_keys.reset_index(drop=True, inplace=True)\n",
    "\n",
    "###select by genre\n",
    "df_keys_multigenre = df_keys.loc[df_keys.genre == 'Multigenre']\n",
    "df_keys_multigenre.reset_index(drop=True, inplace=True)\n",
    "\n",
    "df_keys_hiphoprnb = df_keys.loc[df_keys.genre == 'Hip-Hop / R&B']\n",
    "df_keys_hiphoprnb.reset_index(drop=True, inplace=True)\n",
    "\n",
    "df_keys_house = df_keys.loc[df_keys.genre == 'House']\n",
    "df_keys_house.reset_index(drop=True, inplace=True)\n",
    "\n",
    "df_keys_synthwave = df_keys.loc[df_keys.genre == 'Synthwave']\n",
    "df_keys_synthwave.reset_index(drop=True, inplace=True)\n",
    "\n",
    "df_keys_other = df_keys.loc[df_keys.genre == 'Other']\n",
    "df_keys_other.reset_index(drop=True, inplace=True)\n",
    "\n",
    "df_keys_ambient = df_keys.loc[df_keys.genre == 'Ambient']\n",
    "df_keys_ambient.reset_index(drop=True, inplace=True)\n",
    "\n",
    "df_keys_cinematic = df_keys.loc[df_keys.genre == 'Cinematic']\n",
    "df_keys_cinematic.reset_index(drop=True, inplace=True)\n"
   ]
  },
  {
   "cell_type": "code",
   "execution_count": 113,
   "metadata": {},
   "outputs": [
    {
     "name": "stdout",
     "output_type": "stream",
     "text": [
      "Multigenre: 282\n",
      "Hip-Hop / R&B: 68\n",
      "House: 37\n",
      "Synthwave: 30\n",
      "Other: 28\n",
      "Ambient: 17\n",
      "Cinematic: 17\n"
     ]
    }
   ],
   "source": [
    "print(\"Multigenre: \" + str(len(df_keys_multigenre)))\n",
    "print(\"Hip-Hop / R&B: \" + str(len(df_keys_hiphoprnb)))\n",
    "print(\"House: \" + str(len(df_keys_house)))\n",
    "print(\"Synthwave: \" + str(len(df_keys_synthwave)))\n",
    "print(\"Other: \" + str(len(df_keys_other)))\n",
    "print(\"Ambient: \" + str(len(df_keys_ambient)))\n",
    "print(\"Cinematic: \" + str(len(df_keys_cinematic)))"
   ]
  },
  {
   "cell_type": "code",
   "execution_count": 92,
   "metadata": {},
   "outputs": [
    {
     "data": {
      "text/plain": [
       "array(['Multigenre', 'Hip-Hop / R&B', 'Synthwave', 'Other', 'Ambient',\n",
       "       'Drum and Bass', 'Cinematic', 'House', 'Midtempo', 'Future Bass',\n",
       "       'Trap', 'Hardcore / Hardstyle', 'Moombahton / Reggae', 'Psytrance',\n",
       "       'Techno', 'Dubstep', 'Breakbeat / Breaks', 'Trance'], dtype=object)"
      ]
     },
     "execution_count": 92,
     "metadata": {},
     "output_type": "execute_result"
    }
   ],
   "source": [
    "df_keys.genre.unique()"
   ]
  },
  {
   "cell_type": "markdown",
   "metadata": {},
   "source": [
    "# Pluck"
   ]
  },
  {
   "cell_type": "code",
   "execution_count": 127,
   "metadata": {},
   "outputs": [],
   "source": [
    "df_pluck = df.loc[df.sound_type == 'Pluck']\n",
    "df_pluck.reset_index(drop=True, inplace=True)\n",
    "\n",
    "###select by genre\n",
    "df_pluck_multigenre = df_pluck.loc[df_pluck.genre == \"Multigenre\"]\n",
    "df_pluck_multigenre.reset_index(drop=True, inplace=True)\n",
    "\n",
    "df_pluck_drumbass = df_pluck.loc[df_pluck.genre == \"Drum and Bass\"]\n",
    "df_pluck_drumbass.reset_index(drop=True, inplace=True)\n",
    "\n",
    "df_pluck_house = df_pluck.loc[df_pluck.genre == \"House\"]\n",
    "df_pluck_house.reset_index(drop=True, inplace=True)"
   ]
  },
  {
   "cell_type": "code",
   "execution_count": 131,
   "metadata": {},
   "outputs": [
    {
     "name": "stdout",
     "output_type": "stream",
     "text": [
      "Multigenre: 135\n",
      "Drum and Bass: 26\n",
      "House: 21\n"
     ]
    }
   ],
   "source": [
    "print(\"Multigenre: \" + str(len(df_pluck_multigenre)))\n",
    "print(\"Drum and Bass: \" + str(len(df_pluck_drumbass)))\n",
    "print(\"House: \" + str(len(df_pluck_house)))"
   ]
  },
  {
   "cell_type": "code",
   "execution_count": 126,
   "metadata": {},
   "outputs": [
    {
     "data": {
      "text/plain": [
       "array(['Multigenre', 'Techno', 'House', 'Future Bass', 'Trap',\n",
       "       'Bass House', 'Hip-Hop / R&B', 'Synthwave', 'Tech House',\n",
       "       'Drum and Bass', 'Ambient', 'UK Garage', 'Other', 'Cinematic',\n",
       "       'Dubstep', 'Trance', 'Breakbeat / Breaks', 'Hardcore / Hardstyle',\n",
       "       'Moombahton / Reggae'], dtype=object)"
      ]
     },
     "execution_count": 126,
     "metadata": {},
     "output_type": "execute_result"
    }
   ],
   "source": [
    "df_pluck.genre.unique()"
   ]
  },
  {
   "cell_type": "markdown",
   "metadata": {},
   "source": [
    "# Seq"
   ]
  },
  {
   "cell_type": "code",
   "execution_count": 191,
   "metadata": {},
   "outputs": [],
   "source": [
    "df_seq = df.loc[df.sound_type == 'Seq']\n",
    "df_seq.reset_index(drop=True, inplace=True)\n",
    "\n",
    "###select by genre\n",
    "df_seq_multigenre = df_seq.loc[df_seq.genre == 'Multigenre']\n",
    "df_seq_multigenre.reset_index(drop=True, inplace=True)\n",
    "\n",
    "df_seq_other = df_seq.loc[df_seq.genre == 'Other']\n",
    "df_seq_other.reset_index(drop=True, inplace=True)\n",
    "\n",
    "df_seq_psytrance = df_seq.loc[df_seq.genre == 'Psytrance']\n",
    "df_seq_psytrance.reset_index(drop=True, inplace=True)\n",
    "\n",
    "df_seq_synthwave = df_seq.loc[df_seq.genre == 'Synthwave']\n",
    "df_seq_synthwave.reset_index(drop=True, inplace=True)\n",
    "\n",
    "df_seq_techno = df_seq.loc[df_seq.genre == 'Techno']\n",
    "df_seq_techno.reset_index(drop=True, inplace=True)\n",
    "\n",
    "df_seq_cinematic = df_seq.loc[df_seq.genre == 'Cinematic']\n",
    "df_seq_cinematic.reset_index(drop=True, inplace=True)\n",
    "\n",
    "df_seq_ambient = df_seq.loc[df_seq.genre == 'Ambient']\n",
    "df_seq_ambient.reset_index(drop=True, inplace=True)"
   ]
  },
  {
   "cell_type": "code",
   "execution_count": 192,
   "metadata": {},
   "outputs": [
    {
     "name": "stdout",
     "output_type": "stream",
     "text": [
      "Multigenre: 22\n",
      "Other: 7\n",
      "Psytrance: 6\n",
      "Synthwave: 5\n",
      "Techno: 4\n",
      "Cinematic: 5\n",
      "Ambient: 6\n"
     ]
    }
   ],
   "source": [
    "print(\"Multigenre: \" + str(len(df_seq_multigenre)))\n",
    "print(\"Other: \" + str(len(df_seq_other)))\n",
    "print(\"Psytrance: \" + str(len(df_seq_psytrance)))\n",
    "print(\"Synthwave: \" + str(len(df_seq_synthwave)))\n",
    "print(\"Techno: \" + str(len(df_seq_techno)))\n",
    "print(\"Cinematic: \" + str(len(df_seq_cinematic)))\n",
    "print(\"Ambient: \" + str(len(df_seq_ambient)))"
   ]
  },
  {
   "cell_type": "code",
   "execution_count": 134,
   "metadata": {},
   "outputs": [
    {
     "data": {
      "text/plain": [
       "array(['Multigenre', 'Psytrance', 'Other', 'Ambient', 'Synthwave',\n",
       "       'Techno', 'Dubstep', 'Hardcore / Hardstyle', 'Hip-Hop / R&B',\n",
       "       'Drum and Bass', 'Breakbeat / Breaks', 'Cinematic', 'Midtempo',\n",
       "       'Trance'], dtype=object)"
      ]
     },
     "execution_count": 134,
     "metadata": {},
     "output_type": "execute_result"
    }
   ],
   "source": [
    "df_seq.genre.unique()"
   ]
  },
  {
   "cell_type": "markdown",
   "metadata": {},
   "source": [
    "# Drums"
   ]
  },
  {
   "cell_type": "code",
   "execution_count": 180,
   "metadata": {},
   "outputs": [],
   "source": [
    "df_drums = df.loc[df.sound_type == 'Drums']\n",
    "df_drums.reset_index(drop=True, inplace=True)\n",
    "\n",
    "###select by genre\n",
    "df_drums_multigenre = df_drums.loc[df_drums.genre == 'Multigenre']\n",
    "df_drums_multigenre.reset_index(drop=True, inplace=True)\n",
    "\n",
    "df_drums_hardcorestyle = df_drums.loc[df_drums.genre == 'Hardcore / Hardstyle']\n",
    "df_drums_hardcorestyle.reset_index(drop=True, inplace=True)\n",
    "\n",
    "df_drums_techno = df_drums.loc[df_drums.genre == 'Techno']\n",
    "df_drums_techno.reset_index(drop=True, inplace=True)\n",
    "\n",
    "df_drums_drumbass = df_drums.loc[df_drums.genre == 'Drum and Bass']\n",
    "df_drums_drumbass.reset_index(drop=True, inplace=True)\n",
    "\n",
    "df_drums_house = df_drums.loc[df_drums.genre == 'House']\n",
    "df_drums_house.reset_index(drop=True, inplace=True)\n",
    "\n",
    "df_drums_synthwave = df_drums.loc[df_drums.genre == 'Synthwave']\n",
    "df_drums_synthwave.reset_index(drop=True, inplace=True)\n",
    "\n",
    "df_drums_other = df_drums.loc[df_drums.genre == 'Other']\n",
    "df_drums_other.reset_index(drop=True, inplace=True)\n",
    "\n",
    "df_drums_cinematic = df_drums.loc[df_drums.genre == 'Cinematic']\n",
    "df_drums_cinematic.reset_index(drop=True, inplace=True)"
   ]
  },
  {
   "cell_type": "code",
   "execution_count": 189,
   "metadata": {},
   "outputs": [
    {
     "name": "stdout",
     "output_type": "stream",
     "text": [
      "Multigenre: 52\n",
      "Hardcore / Hardstyle: 28\n",
      "Techno: 15\n",
      "Drum and Bass: 15\n",
      "House: 10\n",
      "Synthwave: 6\n",
      "Other: 6\n",
      "Cinematic: 5\n"
     ]
    }
   ],
   "source": [
    "print(\"Multigenre: \" + str(len(df_drums_multigenre)))\n",
    "print(\"Hardcore / Hardstyle: \" + str(len(df_drums_hardcorestyle)))\n",
    "print(\"Techno: \" + str(len(df_drums_techno)))\n",
    "print(\"Drum and Bass: \" + str(len(df_drums_drumbass)))\n",
    "print(\"House: \" + str(len(df_drums_house)))\n",
    "print(\"Synthwave: \" + str(len(df_drums_synthwave)))\n",
    "print(\"Other: \" + str(len(df_drums_other)))\n",
    "print(\"Cinematic: \" + str(len(df_drums_cinematic)))"
   ]
  },
  {
   "cell_type": "code",
   "execution_count": 165,
   "metadata": {},
   "outputs": [
    {
     "data": {
      "text/plain": [
       "array(['Multigenre', 'House', 'Trap', 'Hardcore / Hardstyle',\n",
       "       'Bass House', 'Cinematic', 'Techno', 'Drum and Bass',\n",
       "       'Future Bass', 'Psytrance', 'Synthwave', 'Hip-Hop / R&B', 'Other',\n",
       "       'Trance', 'Moombahton / Reggae'], dtype=object)"
      ]
     },
     "execution_count": 165,
     "metadata": {},
     "output_type": "execute_result"
    }
   ],
   "source": [
    "df_drums.genre.unique()"
   ]
  },
  {
   "cell_type": "markdown",
   "metadata": {},
   "source": [
    "# Chord"
   ]
  },
  {
   "cell_type": "code",
   "execution_count": 190,
   "metadata": {},
   "outputs": [],
   "source": [
    "df_chord = df.loc[df.sound_type == 'Chord']\n",
    "df_chord.reset_index(drop=True, inplace=True)"
   ]
  },
  {
   "cell_type": "markdown",
   "metadata": {},
   "source": [
    "# Arp"
   ]
  },
  {
   "cell_type": "code",
   "execution_count": 5,
   "metadata": {},
   "outputs": [],
   "source": [
    "df_arp = df.loc[(df.preset_style == 'Arp') & (df.genre.isin(['Multigenre', 'Synthwave', 'Trance', 'Future Bass', 'Other', 'Hip Hop / R&B', 'Ambient']))]"
   ]
  },
  {
   "cell_type": "code",
   "execution_count": 6,
   "metadata": {},
   "outputs": [
    {
     "data": {
      "text/html": [
       "<div>\n",
       "<style scoped>\n",
       "    .dataframe tbody tr th:only-of-type {\n",
       "        vertical-align: middle;\n",
       "    }\n",
       "\n",
       "    .dataframe tbody tr th {\n",
       "        vertical-align: top;\n",
       "    }\n",
       "\n",
       "    .dataframe thead th {\n",
       "        text-align: right;\n",
       "    }\n",
       "</style>\n",
       "<table border=\"1\" class=\"dataframe\">\n",
       "  <thead>\n",
       "    <tr style=\"text-align: right;\">\n",
       "      <th></th>\n",
       "      <th>genre</th>\n",
       "      <th>sound_type</th>\n",
       "      <th>preset_name</th>\n",
       "      <th>preset_style</th>\n",
       "      <th>settings-beats_per_minute</th>\n",
       "      <th>settings-bypass</th>\n",
       "      <th>settings-chorus_cutoff</th>\n",
       "      <th>settings-chorus_delay_1</th>\n",
       "      <th>settings-chorus_delay_2</th>\n",
       "      <th>settings-chorus_dry_wet</th>\n",
       "      <th>...</th>\n",
       "      <th>settings-modulations-6-line_mapping-points-28</th>\n",
       "      <th>settings-modulations-6-line_mapping-points-29</th>\n",
       "      <th>settings-modulations-6-line_mapping-points-30</th>\n",
       "      <th>settings-modulations-6-line_mapping-points-31</th>\n",
       "      <th>settings-modulations-6-line_mapping-powers-10</th>\n",
       "      <th>settings-modulations-6-line_mapping-powers-11</th>\n",
       "      <th>settings-modulations-6-line_mapping-powers-12</th>\n",
       "      <th>settings-modulations-6-line_mapping-powers-13</th>\n",
       "      <th>settings-modulations-6-line_mapping-powers-14</th>\n",
       "      <th>settings-modulations-6-line_mapping-powers-15</th>\n",
       "    </tr>\n",
       "  </thead>\n",
       "  <tbody>\n",
       "  </tbody>\n",
       "</table>\n",
       "<p>0 rows × 2637 columns</p>\n",
       "</div>"
      ],
      "text/plain": [
       "Empty DataFrame\n",
       "Columns: [genre, sound_type, preset_name, preset_style, settings-beats_per_minute, settings-bypass, settings-chorus_cutoff, settings-chorus_delay_1, settings-chorus_delay_2, settings-chorus_dry_wet, settings-chorus_feedback, settings-chorus_frequency, settings-chorus_mod_depth, settings-chorus_on, settings-chorus_spread, settings-chorus_sync, settings-chorus_tempo, settings-chorus_voices, settings-compressor_attack, settings-compressor_band_gain, settings-compressor_band_lower_ratio, settings-compressor_band_lower_threshold, settings-compressor_band_upper_ratio, settings-compressor_band_upper_threshold, settings-compressor_enabled_bands, settings-compressor_high_gain, settings-compressor_high_lower_ratio, settings-compressor_high_lower_threshold, settings-compressor_high_upper_ratio, settings-compressor_high_upper_threshold, settings-compressor_low_gain, settings-compressor_low_lower_ratio, settings-compressor_low_lower_threshold, settings-compressor_low_upper_ratio, settings-compressor_low_upper_threshold, settings-compressor_mix, settings-compressor_on, settings-compressor_release, settings-delay_aux_frequency, settings-delay_aux_sync, settings-delay_aux_tempo, settings-delay_dry_wet, settings-delay_feedback, settings-delay_filter_cutoff, settings-delay_filter_spread, settings-delay_frequency, settings-delay_on, settings-delay_style, settings-delay_sync, settings-delay_tempo, settings-distortion_drive, settings-distortion_filter_blend, settings-distortion_filter_cutoff, settings-distortion_filter_order, settings-distortion_filter_resonance, settings-distortion_mix, settings-distortion_on, settings-distortion_type, settings-effect_chain_order, settings-env_1_attack, settings-env_1_attack_power, settings-env_1_decay, settings-env_1_decay_power, settings-env_1_delay, settings-env_1_hold, settings-env_1_release, settings-env_1_release_power, settings-env_1_sustain, settings-env_2_attack, settings-env_2_attack_power, settings-env_2_decay, settings-env_2_decay_power, settings-env_2_delay, settings-env_2_hold, settings-env_2_release, settings-env_2_release_power, settings-env_2_sustain, settings-env_3_attack, settings-env_3_attack_power, settings-env_3_decay, settings-env_3_decay_power, settings-env_3_delay, settings-env_3_hold, settings-env_3_release, settings-env_3_release_power, settings-env_3_sustain, settings-env_4_attack, settings-env_4_attack_power, settings-env_4_decay, settings-env_4_decay_power, settings-env_4_delay, settings-env_4_hold, settings-env_4_release, settings-env_4_release_power, settings-env_4_sustain, settings-env_5_attack, settings-env_5_attack_power, settings-env_5_decay, settings-env_5_decay_power, settings-env_5_delay, ...]\n",
       "Index: []\n",
       "\n",
       "[0 rows x 2637 columns]"
      ]
     },
     "execution_count": 6,
     "metadata": {},
     "output_type": "execute_result"
    }
   ],
   "source": [
    "df_arp"
   ]
  },
  {
   "cell_type": "code",
   "execution_count": null,
   "metadata": {},
   "outputs": [],
   "source": []
  }
 ],
 "metadata": {
  "kernelspec": {
   "display_name": "new_preset",
   "language": "python",
   "name": "python3"
  },
  "language_info": {
   "codemirror_mode": {
    "name": "ipython",
    "version": 3
   },
   "file_extension": ".py",
   "mimetype": "text/x-python",
   "name": "python",
   "nbconvert_exporter": "python",
   "pygments_lexer": "ipython3",
   "version": "3.9.19"
  }
 },
 "nbformat": 4,
 "nbformat_minor": 2
}
