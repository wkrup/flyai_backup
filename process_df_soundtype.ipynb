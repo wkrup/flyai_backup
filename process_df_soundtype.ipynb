{
 "cells": [
  {
   "cell_type": "code",
   "execution_count": 1,
   "metadata": {},
   "outputs": [],
   "source": [
    "import pandas as pd\n",
    "import random"
   ]
  },
  {
   "cell_type": "code",
   "execution_count": 2,
   "metadata": {},
   "outputs": [
    {
     "name": "stderr",
     "output_type": "stream",
     "text": [
      "C:\\Users\\lazu8\\AppData\\Local\\Temp\\ipykernel_15464\\3343762605.py:1: DtypeWarning: Columns (946,1264,1321,1378,1426,1435,1462,1489,1504,1519,1530,1531,1532,1533,1534,1535,1536,1537,1538,1539,1540,1541,1542,1543,1544,1545,1546,1547,1548,1549,1550,1551,1552,1553,1554,1555,1556,1557,1558,1559,1560,1561,1562,1563,1564,1565,1566,1567,1568,1569,1570,1571,1572,1573,1574,1575,1576,1577,1578,1579,1580,1581,1582,1583,1584,1585,1586,1587,1588,1589,1590,1591,1592,1593,1594,1595,1596,1597,1598,1599,1600,1601,1602,1603,1604,1605,1606,1607,1608,1609,1610,1611,1668,1677,1686,1698,1710,1722,1740,1779,1794,1851,1884,1914,1923,1938,1953,2004,2016,2115,2244,2259,2274,2322,2331,2332,2333,2348,2381,2459,2507,2549,2588,2603,2618) have mixed types. Specify dtype option on import or set low_memory=False.\n",
      "  df = pd.read_csv('data/preprocessed_preset_240814.csv')\n"
     ]
    }
   ],
   "source": [
    "df = pd.read_csv('data/preprocessed_preset_240814.csv')"
   ]
  },
  {
   "cell_type": "code",
   "execution_count": 3,
   "metadata": {},
   "outputs": [
    {
     "data": {
      "text/html": [
       "<div>\n",
       "<style scoped>\n",
       "    .dataframe tbody tr th:only-of-type {\n",
       "        vertical-align: middle;\n",
       "    }\n",
       "\n",
       "    .dataframe tbody tr th {\n",
       "        vertical-align: top;\n",
       "    }\n",
       "\n",
       "    .dataframe thead th {\n",
       "        text-align: right;\n",
       "    }\n",
       "</style>\n",
       "<table border=\"1\" class=\"dataframe\">\n",
       "  <thead>\n",
       "    <tr style=\"text-align: right;\">\n",
       "      <th></th>\n",
       "      <th>genre</th>\n",
       "      <th>sound_type</th>\n",
       "      <th>preset_name</th>\n",
       "      <th>preset_style</th>\n",
       "      <th>settings-beats_per_minute</th>\n",
       "      <th>settings-bypass</th>\n",
       "      <th>settings-chorus_cutoff</th>\n",
       "      <th>settings-chorus_delay_1</th>\n",
       "      <th>settings-chorus_delay_2</th>\n",
       "      <th>settings-chorus_dry_wet</th>\n",
       "      <th>...</th>\n",
       "      <th>settings-modulations-6-line_mapping-points-28</th>\n",
       "      <th>settings-modulations-6-line_mapping-points-29</th>\n",
       "      <th>settings-modulations-6-line_mapping-points-30</th>\n",
       "      <th>settings-modulations-6-line_mapping-points-31</th>\n",
       "      <th>settings-modulations-6-line_mapping-powers-10</th>\n",
       "      <th>settings-modulations-6-line_mapping-powers-11</th>\n",
       "      <th>settings-modulations-6-line_mapping-powers-12</th>\n",
       "      <th>settings-modulations-6-line_mapping-powers-13</th>\n",
       "      <th>settings-modulations-6-line_mapping-powers-14</th>\n",
       "      <th>settings-modulations-6-line_mapping-powers-15</th>\n",
       "    </tr>\n",
       "  </thead>\n",
       "  <tbody>\n",
       "    <tr>\n",
       "      <th>0</th>\n",
       "      <td>Synthwave</td>\n",
       "      <td>Synth</td>\n",
       "      <td>preset_name_1</td>\n",
       "      <td>Keys</td>\n",
       "      <td>1.650000</td>\n",
       "      <td>0.0</td>\n",
       "      <td>89.170738</td>\n",
       "      <td>-9.000000</td>\n",
       "      <td>-7.000000</td>\n",
       "      <td>0.10500</td>\n",
       "      <td>...</td>\n",
       "      <td>NaN</td>\n",
       "      <td>NaN</td>\n",
       "      <td>NaN</td>\n",
       "      <td>NaN</td>\n",
       "      <td>NaN</td>\n",
       "      <td>NaN</td>\n",
       "      <td>NaN</td>\n",
       "      <td>NaN</td>\n",
       "      <td>NaN</td>\n",
       "      <td>NaN</td>\n",
       "    </tr>\n",
       "    <tr>\n",
       "      <th>1</th>\n",
       "      <td>Multigenre</td>\n",
       "      <td>Keys</td>\n",
       "      <td>preset_name_2</td>\n",
       "      <td>Keys</td>\n",
       "      <td>2.166667</td>\n",
       "      <td>0.0</td>\n",
       "      <td>60.000000</td>\n",
       "      <td>-9.000000</td>\n",
       "      <td>-7.000000</td>\n",
       "      <td>0.50000</td>\n",
       "      <td>...</td>\n",
       "      <td>NaN</td>\n",
       "      <td>NaN</td>\n",
       "      <td>NaN</td>\n",
       "      <td>NaN</td>\n",
       "      <td>NaN</td>\n",
       "      <td>NaN</td>\n",
       "      <td>NaN</td>\n",
       "      <td>NaN</td>\n",
       "      <td>NaN</td>\n",
       "      <td>NaN</td>\n",
       "    </tr>\n",
       "    <tr>\n",
       "      <th>2</th>\n",
       "      <td>Dubstep</td>\n",
       "      <td>Bass</td>\n",
       "      <td>preset_name_3</td>\n",
       "      <td>Bass</td>\n",
       "      <td>2.000000</td>\n",
       "      <td>0.0</td>\n",
       "      <td>93.243370</td>\n",
       "      <td>-8.613684</td>\n",
       "      <td>-5.951427</td>\n",
       "      <td>0.24662</td>\n",
       "      <td>...</td>\n",
       "      <td>NaN</td>\n",
       "      <td>NaN</td>\n",
       "      <td>NaN</td>\n",
       "      <td>NaN</td>\n",
       "      <td>NaN</td>\n",
       "      <td>NaN</td>\n",
       "      <td>NaN</td>\n",
       "      <td>NaN</td>\n",
       "      <td>NaN</td>\n",
       "      <td>NaN</td>\n",
       "    </tr>\n",
       "    <tr>\n",
       "      <th>3</th>\n",
       "      <td>Halfstep</td>\n",
       "      <td>Reese</td>\n",
       "      <td>preset_name_4</td>\n",
       "      <td>Bass</td>\n",
       "      <td>1.450000</td>\n",
       "      <td>0.0</td>\n",
       "      <td>105.500000</td>\n",
       "      <td>-7.584501</td>\n",
       "      <td>-6.506352</td>\n",
       "      <td>0.40000</td>\n",
       "      <td>...</td>\n",
       "      <td>NaN</td>\n",
       "      <td>NaN</td>\n",
       "      <td>NaN</td>\n",
       "      <td>NaN</td>\n",
       "      <td>NaN</td>\n",
       "      <td>NaN</td>\n",
       "      <td>NaN</td>\n",
       "      <td>NaN</td>\n",
       "      <td>NaN</td>\n",
       "      <td>NaN</td>\n",
       "    </tr>\n",
       "    <tr>\n",
       "      <th>4</th>\n",
       "      <td>Cinematic</td>\n",
       "      <td>Pad</td>\n",
       "      <td>preset_name_5</td>\n",
       "      <td>Pad</td>\n",
       "      <td>2.000000</td>\n",
       "      <td>0.0</td>\n",
       "      <td>60.000000</td>\n",
       "      <td>-9.000000</td>\n",
       "      <td>-7.000000</td>\n",
       "      <td>0.00000</td>\n",
       "      <td>...</td>\n",
       "      <td>NaN</td>\n",
       "      <td>NaN</td>\n",
       "      <td>NaN</td>\n",
       "      <td>NaN</td>\n",
       "      <td>NaN</td>\n",
       "      <td>NaN</td>\n",
       "      <td>NaN</td>\n",
       "      <td>NaN</td>\n",
       "      <td>NaN</td>\n",
       "      <td>NaN</td>\n",
       "    </tr>\n",
       "  </tbody>\n",
       "</table>\n",
       "<p>5 rows × 2637 columns</p>\n",
       "</div>"
      ],
      "text/plain": [
       "        genre sound_type    preset_name preset_style  \\\n",
       "0   Synthwave      Synth  preset_name_1         Keys   \n",
       "1  Multigenre       Keys  preset_name_2         Keys   \n",
       "2     Dubstep       Bass  preset_name_3         Bass   \n",
       "3    Halfstep      Reese  preset_name_4         Bass   \n",
       "4   Cinematic        Pad  preset_name_5          Pad   \n",
       "\n",
       "   settings-beats_per_minute  settings-bypass  settings-chorus_cutoff  \\\n",
       "0                   1.650000              0.0               89.170738   \n",
       "1                   2.166667              0.0               60.000000   \n",
       "2                   2.000000              0.0               93.243370   \n",
       "3                   1.450000              0.0              105.500000   \n",
       "4                   2.000000              0.0               60.000000   \n",
       "\n",
       "   settings-chorus_delay_1  settings-chorus_delay_2  settings-chorus_dry_wet  \\\n",
       "0                -9.000000                -7.000000                  0.10500   \n",
       "1                -9.000000                -7.000000                  0.50000   \n",
       "2                -8.613684                -5.951427                  0.24662   \n",
       "3                -7.584501                -6.506352                  0.40000   \n",
       "4                -9.000000                -7.000000                  0.00000   \n",
       "\n",
       "   ...  settings-modulations-6-line_mapping-points-28  \\\n",
       "0  ...                                            NaN   \n",
       "1  ...                                            NaN   \n",
       "2  ...                                            NaN   \n",
       "3  ...                                            NaN   \n",
       "4  ...                                            NaN   \n",
       "\n",
       "   settings-modulations-6-line_mapping-points-29  \\\n",
       "0                                            NaN   \n",
       "1                                            NaN   \n",
       "2                                            NaN   \n",
       "3                                            NaN   \n",
       "4                                            NaN   \n",
       "\n",
       "   settings-modulations-6-line_mapping-points-30  \\\n",
       "0                                            NaN   \n",
       "1                                            NaN   \n",
       "2                                            NaN   \n",
       "3                                            NaN   \n",
       "4                                            NaN   \n",
       "\n",
       "   settings-modulations-6-line_mapping-points-31  \\\n",
       "0                                            NaN   \n",
       "1                                            NaN   \n",
       "2                                            NaN   \n",
       "3                                            NaN   \n",
       "4                                            NaN   \n",
       "\n",
       "   settings-modulations-6-line_mapping-powers-10  \\\n",
       "0                                            NaN   \n",
       "1                                            NaN   \n",
       "2                                            NaN   \n",
       "3                                            NaN   \n",
       "4                                            NaN   \n",
       "\n",
       "   settings-modulations-6-line_mapping-powers-11  \\\n",
       "0                                            NaN   \n",
       "1                                            NaN   \n",
       "2                                            NaN   \n",
       "3                                            NaN   \n",
       "4                                            NaN   \n",
       "\n",
       "   settings-modulations-6-line_mapping-powers-12  \\\n",
       "0                                            NaN   \n",
       "1                                            NaN   \n",
       "2                                            NaN   \n",
       "3                                            NaN   \n",
       "4                                            NaN   \n",
       "\n",
       "   settings-modulations-6-line_mapping-powers-13  \\\n",
       "0                                            NaN   \n",
       "1                                            NaN   \n",
       "2                                            NaN   \n",
       "3                                            NaN   \n",
       "4                                            NaN   \n",
       "\n",
       "   settings-modulations-6-line_mapping-powers-14  \\\n",
       "0                                            NaN   \n",
       "1                                            NaN   \n",
       "2                                            NaN   \n",
       "3                                            NaN   \n",
       "4                                            NaN   \n",
       "\n",
       "   settings-modulations-6-line_mapping-powers-15  \n",
       "0                                            NaN  \n",
       "1                                            NaN  \n",
       "2                                            NaN  \n",
       "3                                            NaN  \n",
       "4                                            NaN  \n",
       "\n",
       "[5 rows x 2637 columns]"
      ]
     },
     "execution_count": 3,
     "metadata": {},
     "output_type": "execute_result"
    }
   ],
   "source": [
    "df.head()"
   ]
  },
  {
   "cell_type": "code",
   "execution_count": 4,
   "metadata": {},
   "outputs": [
    {
     "data": {
      "text/plain": [
       "array(['Synth', 'Keys', 'Bass', 'Reese', 'Pad', 'Lead', 'Drums', 'Chord',\n",
       "       'Seq', 'Arp', 'Pluck', 'Stab', 'FX', 'Drone', 'Atmosphere',\n",
       "       'Other', 'Miscellaneous', 'Sub', 'Vox'], dtype=object)"
      ]
     },
     "execution_count": 4,
     "metadata": {},
     "output_type": "execute_result"
    }
   ],
   "source": [
    "df.sound_type.unique()"
   ]
  },
  {
   "cell_type": "code",
   "execution_count": 5,
   "metadata": {},
   "outputs": [],
   "source": [
    "def select_data(input_df, sel_num):\n",
    "    random.seed(0)\n",
    "    sel_list = [i for i in range(len(input_df))]\n",
    "    random.shuffle(sel_list)\n",
    "    sel_list = sel_list[:sel_num]\n",
    "    input_df = input_df.loc[sel_list]\n",
    "    input_df.reset_index(inplace=True, drop=True)\n",
    "\n",
    "    return input_df"
   ]
  },
  {
   "cell_type": "code",
   "execution_count": 6,
   "metadata": {},
   "outputs": [],
   "source": [
    "def concat_data(df_list, fix_num):\n",
    "    concat_list = []\n",
    "\n",
    "    for i in df_list:\n",
    "        mult_times = fix_num // len(i)\n",
    "        concat_list.extend([i]*mult_times)\n",
    "\n",
    "    concat_df = pd.concat(concat_list)\n",
    "    concat_df.reset_index(inplace=True, drop=True)\n",
    "    \n",
    "    return concat_df"
   ]
  },
  {
   "cell_type": "markdown",
   "metadata": {},
   "source": [
    "# Bass"
   ]
  },
  {
   "cell_type": "code",
   "execution_count": 7,
   "metadata": {},
   "outputs": [],
   "source": [
    "df_bass = df.loc[df.sound_type == 'Bass']\n",
    "df_bass.reset_index(drop=True, inplace=True)\n",
    "\n",
    "###select by genre\n",
    "df_bass_drumbass = df_bass.loc[df_bass.genre == 'Drum and Bass']\n",
    "df_bass_drumbass.reset_index(drop=True, inplace=True)\n",
    "\n",
    "df_bass_dubstep = df_bass.loc[df_bass.genre == 'Dubstep']\n",
    "df_bass_dubstep.reset_index(drop=True, inplace=True)\n",
    "\n",
    "df_bass_multigenre = df_bass.loc[df_bass.genre == 'Multigenre']\n",
    "df_bass_multigenre.reset_index(drop=True, inplace=True)\n",
    "\n",
    "df_bass_house = df_bass.loc[df_bass.genre == 'House']\n",
    "df_bass_house.reset_index(drop=True, inplace=True)\n",
    "\n",
    "df_bass_midtempo = df_bass.loc[df_bass.genre == 'Midtempo']\n",
    "df_bass_midtempo.reset_index(drop=True, inplace=True)\n",
    "\n",
    "df_bass_synthwave = df_bass.loc[df_bass.genre == 'Synthwave']\n",
    "df_bass_synthwave.reset_index(drop=True, inplace=True)\n",
    "\n",
    "df_bass_hardcorestyle = df_bass.loc[df_bass.genre == 'Hardcore / Hardstyle']\n",
    "df_bass_hardcorestyle.reset_index(drop=True, inplace=True)\n",
    "\n",
    "df_bass_basshouse = df_bass.loc[df_bass.genre == 'Bass House']\n",
    "df_bass_basshouse.reset_index(drop=True, inplace=True)\n",
    "\n",
    "df_bass_breakbeatbreaks = df_bass.loc[df_bass.genre == 'Breakbeat / Breaks']\n",
    "df_bass_breakbeatbreaks.reset_index(drop=True, inplace=True)\n",
    "\n",
    "df_bass_techno = df_bass.loc[df_bass.genre == 'Techno']\n",
    "df_bass_techno.reset_index(drop=True, inplace=True)\n",
    "\n",
    "df_bass_trap = df_bass.loc[df_bass.genre == 'Trap']\n",
    "df_bass_trap.reset_index(drop=True, inplace=True)\n",
    "\n",
    "df_bass_hiphoprnb = df_bass.loc[df_bass.genre == 'Hip-Hop / R&B']\n",
    "df_bass_hiphoprnb.reset_index(drop=True, inplace=True)\n",
    "\n",
    "df_bass_other = df_bass.loc[df_bass.genre == 'Other']\n",
    "df_bass_other.reset_index(drop=True, inplace=True)\n"
   ]
  },
  {
   "cell_type": "code",
   "execution_count": 8,
   "metadata": {},
   "outputs": [
    {
     "name": "stdout",
     "output_type": "stream",
     "text": [
      "Drum Bass: 405\n",
      "Dubstep: 251\n",
      "Multigenre: 198\n",
      "House: 93\n",
      "Midtempo: 53\n",
      "Synthwave: 50\n",
      "Hardcore / Hardstyle: 42\n",
      "Bass House: 40\n",
      "Breakbeat / Breaks: 35\n",
      "Techno: 25\n",
      "Trap: 26\n",
      "Hip-Hop / R&B: 24\n",
      "Other: 22\n"
     ]
    }
   ],
   "source": [
    "print(\"Drum Bass: \" + str(len(df_bass_drumbass)))\n",
    "print(\"Dubstep: \" + str(len(df_bass_dubstep)))\n",
    "print(\"Multigenre: \" + str(len(df_bass_multigenre)))\n",
    "print(\"House: \" + str(len(df_bass_house)))\n",
    "print(\"Midtempo: \" + str(len(df_bass_midtempo)))\n",
    "print(\"Synthwave: \" + str(len(df_bass_synthwave)))\n",
    "print(\"Hardcore / Hardstyle: \" + str(len(df_bass_hardcorestyle)))\n",
    "print(\"Bass House: \" + str(len(df_bass_basshouse)))\n",
    "print(\"Breakbeat / Breaks: \" + str(len(df_bass_breakbeatbreaks)))\n",
    "print(\"Techno: \" + str(len(df_bass_techno)))\n",
    "print(\"Trap: \" + str(len(df_bass_trap)))\n",
    "print(\"Hip-Hop / R&B: \" + str(len(df_bass_hiphoprnb)))\n",
    "print(\"Other: \" + str(len(df_bass_other)))"
   ]
  },
  {
   "cell_type": "code",
   "execution_count": 9,
   "metadata": {},
   "outputs": [],
   "source": [
    "# Fix: 100\n",
    "\n",
    "random.seed(0)\n",
    "\n",
    "# Reduce \n",
    "\n",
    "bass_drumbass_sel = [i for i in range(len(df_bass_drumbass))]\n",
    "random.shuffle(bass_drumbass_sel)\n",
    "bass_drumbass_sel = bass_drumbass_sel[:100]\n",
    "df_bass_drumbass = df_bass_drumbass.loc[bass_drumbass_sel]\n",
    "df_bass_drumbass.reset_index(inplace=True, drop=True)\n",
    "\n",
    "bass_dubstep_sel = [i for i in range(len(df_bass_dubstep))]\n",
    "random.shuffle(bass_dubstep_sel)\n",
    "bass_dubstep_sel = bass_dubstep_sel[:100]\n",
    "df_bass_dubstep = df_bass_dubstep.loc[bass_dubstep_sel]\n",
    "df_bass_dubstep.reset_index(inplace=True, drop=True)\n",
    "\n",
    "bass_multigenre_sel = [i for i in range(len(df_bass_multigenre))]\n",
    "random.shuffle(bass_multigenre_sel)\n",
    "bass_multigenre_sel = bass_multigenre_sel[:100]\n",
    "df_bass_multigenre = df_bass_multigenre.loc[bass_multigenre_sel]\n",
    "df_bass_multigenre.reset_index(inplace=True, drop=True)\n",
    "\n",
    "\n"
   ]
  },
  {
   "cell_type": "code",
   "execution_count": 10,
   "metadata": {},
   "outputs": [],
   "source": [
    "df_bass_list = [df_bass_drumbass, df_bass_dubstep, df_bass_multigenre, df_bass_house]\n",
    "df_bass_list.extend([df_bass_midtempo]*2)\n",
    "df_bass_list.extend([df_bass_synthwave]*2)\n",
    "df_bass_list.extend([df_bass_hardcorestyle]*2)\n",
    "df_bass_list.extend([df_bass_basshouse]*2)\n",
    "df_bass_list.extend([df_bass_breakbeatbreaks]*3)\n",
    "df_bass_list.extend([df_bass_techno]*4)\n",
    "df_bass_list.extend([df_bass_trap]*4)\n",
    "df_bass_list.extend([df_bass_hiphoprnb]*4)\n",
    "df_bass_list.extend([df_bass_other]*4)\n",
    "\n",
    "df_bass_final = pd.concat(df_bass_list)\n",
    "df_bass_final.reset_index(inplace=True, drop=True)"
   ]
  },
  {
   "cell_type": "code",
   "execution_count": 11,
   "metadata": {},
   "outputs": [],
   "source": [
    "# df_bass_final.to_csv('data/bass_train.csv', index=False)"
   ]
  },
  {
   "cell_type": "markdown",
   "metadata": {},
   "source": [
    "# Keys"
   ]
  },
  {
   "cell_type": "code",
   "execution_count": 12,
   "metadata": {},
   "outputs": [],
   "source": [
    "df_keys = df.loc[df.sound_type == 'Keys']\n",
    "df_keys.reset_index(drop=True, inplace=True)\n",
    "\n",
    "###select by genre\n",
    "df_keys_multigenre = df_keys.loc[df_keys.genre == 'Multigenre']\n",
    "df_keys_multigenre.reset_index(drop=True, inplace=True)\n",
    "\n",
    "df_keys_hiphoprnb = df_keys.loc[df_keys.genre == 'Hip-Hop / R&B']\n",
    "df_keys_hiphoprnb.reset_index(drop=True, inplace=True)\n",
    "\n",
    "df_keys_house = df_keys.loc[df_keys.genre == 'House']\n",
    "df_keys_house.reset_index(drop=True, inplace=True)\n",
    "\n",
    "df_keys_synthwave = df_keys.loc[df_keys.genre == 'Synthwave']\n",
    "df_keys_synthwave.reset_index(drop=True, inplace=True)\n",
    "\n",
    "df_keys_other = df_keys.loc[df_keys.genre == 'Other']\n",
    "df_keys_other.reset_index(drop=True, inplace=True)\n",
    "\n",
    "df_keys_ambient = df_keys.loc[df_keys.genre == 'Ambient']\n",
    "df_keys_ambient.reset_index(drop=True, inplace=True)\n",
    "\n",
    "df_keys_cinematic = df_keys.loc[df_keys.genre == 'Cinematic']\n",
    "df_keys_cinematic.reset_index(drop=True, inplace=True)\n"
   ]
  },
  {
   "cell_type": "code",
   "execution_count": 13,
   "metadata": {},
   "outputs": [
    {
     "name": "stdout",
     "output_type": "stream",
     "text": [
      "Multigenre: 282\n",
      "Hip-Hop / R&B: 68\n",
      "House: 37\n",
      "Synthwave: 30\n",
      "Other: 28\n",
      "Ambient: 17\n",
      "Cinematic: 17\n"
     ]
    }
   ],
   "source": [
    "print(\"Multigenre: \" + str(len(df_keys_multigenre)))\n",
    "print(\"Hip-Hop / R&B: \" + str(len(df_keys_hiphoprnb)))\n",
    "print(\"House: \" + str(len(df_keys_house)))\n",
    "print(\"Synthwave: \" + str(len(df_keys_synthwave)))\n",
    "print(\"Other: \" + str(len(df_keys_other)))\n",
    "print(\"Ambient: \" + str(len(df_keys_ambient)))\n",
    "print(\"Cinematic: \" + str(len(df_keys_cinematic)))"
   ]
  },
  {
   "cell_type": "code",
   "execution_count": 14,
   "metadata": {},
   "outputs": [],
   "source": [
    "# Fix: 75\n",
    "df_keys_multigenre = select_data(df_keys_multigenre, 75)\n"
   ]
  },
  {
   "cell_type": "code",
   "execution_count": 15,
   "metadata": {},
   "outputs": [],
   "source": [
    "df_keys_list = [df_keys_multigenre, df_keys_hiphoprnb, df_keys_house, df_keys_synthwave, df_keys_other, df_keys_ambient, df_keys_cinematic]\n",
    "\n",
    "df_keys_final = concat_data(df_keys_list, 75)"
   ]
  },
  {
   "cell_type": "code",
   "execution_count": 16,
   "metadata": {},
   "outputs": [],
   "source": [
    "# df_keys_final.to_csv('data/keys_train.csv', index=False)"
   ]
  },
  {
   "cell_type": "markdown",
   "metadata": {},
   "source": [
    "# Pluck"
   ]
  },
  {
   "cell_type": "code",
   "execution_count": 17,
   "metadata": {},
   "outputs": [],
   "source": [
    "df_pluck = df.loc[df.sound_type == 'Pluck']\n",
    "df_pluck.reset_index(drop=True, inplace=True)\n",
    "\n",
    "###select by genre\n",
    "df_pluck_multigenre = df_pluck.loc[df_pluck.genre == \"Multigenre\"]\n",
    "df_pluck_multigenre.reset_index(drop=True, inplace=True)\n",
    "\n",
    "df_pluck_drumbass = df_pluck.loc[df_pluck.genre == \"Drum and Bass\"]\n",
    "df_pluck_drumbass.reset_index(drop=True, inplace=True)\n",
    "\n",
    "df_pluck_house = df_pluck.loc[df_pluck.genre == \"House\"]\n",
    "df_pluck_house.reset_index(drop=True, inplace=True)"
   ]
  },
  {
   "cell_type": "code",
   "execution_count": 18,
   "metadata": {},
   "outputs": [
    {
     "name": "stdout",
     "output_type": "stream",
     "text": [
      "Multigenre: 135\n",
      "Drum and Bass: 26\n",
      "House: 21\n"
     ]
    }
   ],
   "source": [
    "print(\"Multigenre: \" + str(len(df_pluck_multigenre)))\n",
    "print(\"Drum and Bass: \" + str(len(df_pluck_drumbass)))\n",
    "print(\"House: \" + str(len(df_pluck_house)))"
   ]
  },
  {
   "cell_type": "code",
   "execution_count": 19,
   "metadata": {},
   "outputs": [],
   "source": [
    "df_pluck_multigenre = select_data(df_pluck_multigenre, 30)"
   ]
  },
  {
   "cell_type": "code",
   "execution_count": 20,
   "metadata": {},
   "outputs": [],
   "source": [
    "df_pluck_list = [df_pluck_multigenre, df_pluck_drumbass, df_pluck_house]\n",
    "\n",
    "df_pluck_final = concat_data(df_pluck_list, 30)"
   ]
  },
  {
   "cell_type": "code",
   "execution_count": 21,
   "metadata": {},
   "outputs": [],
   "source": [
    "# df_pluck_final.to_csv('data/pluck_train.csv', index=False)"
   ]
  },
  {
   "cell_type": "markdown",
   "metadata": {},
   "source": [
    "# Seq"
   ]
  },
  {
   "cell_type": "code",
   "execution_count": 22,
   "metadata": {},
   "outputs": [],
   "source": [
    "df_seq = df.loc[df.sound_type == 'Seq']\n",
    "df_seq.reset_index(drop=True, inplace=True)\n",
    "\n",
    "###select by genre\n",
    "df_seq_multigenre = df_seq.loc[df_seq.genre == 'Multigenre']\n",
    "df_seq_multigenre.reset_index(drop=True, inplace=True)\n",
    "\n",
    "df_seq_other = df_seq.loc[df_seq.genre == 'Other']\n",
    "df_seq_other.reset_index(drop=True, inplace=True)\n",
    "\n",
    "df_seq_psytrance = df_seq.loc[df_seq.genre == 'Psytrance']\n",
    "df_seq_psytrance.reset_index(drop=True, inplace=True)\n",
    "\n",
    "df_seq_synthwave = df_seq.loc[df_seq.genre == 'Synthwave']\n",
    "df_seq_synthwave.reset_index(drop=True, inplace=True)\n",
    "\n",
    "df_seq_techno = df_seq.loc[df_seq.genre == 'Techno']\n",
    "df_seq_techno.reset_index(drop=True, inplace=True)\n",
    "\n",
    "df_seq_cinematic = df_seq.loc[df_seq.genre == 'Cinematic']\n",
    "df_seq_cinematic.reset_index(drop=True, inplace=True)\n",
    "\n",
    "df_seq_ambient = df_seq.loc[df_seq.genre == 'Ambient']\n",
    "df_seq_ambient.reset_index(drop=True, inplace=True)"
   ]
  },
  {
   "cell_type": "code",
   "execution_count": 23,
   "metadata": {},
   "outputs": [
    {
     "name": "stdout",
     "output_type": "stream",
     "text": [
      "Multigenre: 22\n",
      "Other: 7\n",
      "Psytrance: 6\n",
      "Synthwave: 5\n",
      "Techno: 4\n",
      "Cinematic: 5\n",
      "Ambient: 6\n"
     ]
    }
   ],
   "source": [
    "print(\"Multigenre: \" + str(len(df_seq_multigenre)))\n",
    "print(\"Other: \" + str(len(df_seq_other)))\n",
    "print(\"Psytrance: \" + str(len(df_seq_psytrance)))\n",
    "print(\"Synthwave: \" + str(len(df_seq_synthwave)))\n",
    "print(\"Techno: \" + str(len(df_seq_techno)))\n",
    "print(\"Cinematic: \" + str(len(df_seq_cinematic)))\n",
    "print(\"Ambient: \" + str(len(df_seq_ambient)))"
   ]
  },
  {
   "cell_type": "code",
   "execution_count": 24,
   "metadata": {},
   "outputs": [],
   "source": [
    "df_seq_list = [df_seq_multigenre, df_seq_other, df_seq_psytrance, df_seq_synthwave, df_seq_techno, df_seq_cinematic, df_seq_ambient]\n",
    "\n",
    "df_seq_final = concat_data(df_seq_list, 22)"
   ]
  },
  {
   "cell_type": "code",
   "execution_count": 25,
   "metadata": {},
   "outputs": [],
   "source": [
    "# df_seq_final.to_csv('data/seq_train.csv', index=False)"
   ]
  },
  {
   "cell_type": "markdown",
   "metadata": {},
   "source": [
    "# Drums"
   ]
  },
  {
   "cell_type": "code",
   "execution_count": 26,
   "metadata": {},
   "outputs": [],
   "source": [
    "df_drums = df.loc[df.sound_type == 'Drums']\n",
    "df_drums.reset_index(drop=True, inplace=True)\n",
    "\n",
    "###select by genre\n",
    "df_drums_multigenre = df_drums.loc[df_drums.genre == 'Multigenre']\n",
    "df_drums_multigenre.reset_index(drop=True, inplace=True)\n",
    "\n",
    "df_drums_hardcorestyle = df_drums.loc[df_drums.genre == 'Hardcore / Hardstyle']\n",
    "df_drums_hardcorestyle.reset_index(drop=True, inplace=True)\n",
    "\n",
    "df_drums_techno = df_drums.loc[df_drums.genre == 'Techno']\n",
    "df_drums_techno.reset_index(drop=True, inplace=True)\n",
    "\n",
    "df_drums_drumbass = df_drums.loc[df_drums.genre == 'Drum and Bass']\n",
    "df_drums_drumbass.reset_index(drop=True, inplace=True)\n",
    "\n",
    "df_drums_house = df_drums.loc[df_drums.genre == 'House']\n",
    "df_drums_house.reset_index(drop=True, inplace=True)\n",
    "\n",
    "df_drums_synthwave = df_drums.loc[df_drums.genre == 'Synthwave']\n",
    "df_drums_synthwave.reset_index(drop=True, inplace=True)\n",
    "\n",
    "df_drums_other = df_drums.loc[df_drums.genre == 'Other']\n",
    "df_drums_other.reset_index(drop=True, inplace=True)\n",
    "\n",
    "df_drums_cinematic = df_drums.loc[df_drums.genre == 'Cinematic']\n",
    "df_drums_cinematic.reset_index(drop=True, inplace=True)"
   ]
  },
  {
   "cell_type": "code",
   "execution_count": 27,
   "metadata": {},
   "outputs": [
    {
     "name": "stdout",
     "output_type": "stream",
     "text": [
      "Multigenre: 52\n",
      "Hardcore / Hardstyle: 28\n",
      "Techno: 15\n",
      "Drum and Bass: 15\n",
      "House: 10\n",
      "Synthwave: 6\n",
      "Other: 6\n",
      "Cinematic: 5\n"
     ]
    }
   ],
   "source": [
    "print(\"Multigenre: \" + str(len(df_drums_multigenre)))\n",
    "print(\"Hardcore / Hardstyle: \" + str(len(df_drums_hardcorestyle)))\n",
    "print(\"Techno: \" + str(len(df_drums_techno)))\n",
    "print(\"Drum and Bass: \" + str(len(df_drums_drumbass)))\n",
    "print(\"House: \" + str(len(df_drums_house)))\n",
    "print(\"Synthwave: \" + str(len(df_drums_synthwave)))\n",
    "print(\"Other: \" + str(len(df_drums_other)))\n",
    "print(\"Cinematic: \" + str(len(df_drums_cinematic)))"
   ]
  },
  {
   "cell_type": "code",
   "execution_count": 28,
   "metadata": {},
   "outputs": [],
   "source": [
    "df_drums_multigenre = select_data(df_drums_multigenre, 30)"
   ]
  },
  {
   "cell_type": "code",
   "execution_count": 29,
   "metadata": {},
   "outputs": [],
   "source": [
    "df_drums_list = [df_drums_multigenre, df_drums_hardcorestyle, df_drums_techno, df_drums_drumbass, df_drums_house, df_drums_synthwave, df_drums_other, df_drums_cinematic]\n",
    "df_drums_final = concat_data(df_drums_list, 30)"
   ]
  },
  {
   "cell_type": "code",
   "execution_count": 30,
   "metadata": {},
   "outputs": [],
   "source": [
    "# df_drums_final.to_csv('data/drums_train.csv', index=False)"
   ]
  },
  {
   "cell_type": "markdown",
   "metadata": {},
   "source": [
    "# Chord"
   ]
  },
  {
   "cell_type": "code",
   "execution_count": 31,
   "metadata": {},
   "outputs": [],
   "source": [
    "df_chord = df.loc[df.sound_type == 'Chord']\n",
    "df_chord.reset_index(drop=True, inplace=True)\n",
    "\n",
    "###select by genre\n",
    "df_chord_house = df_chord.loc[df_chord.genre == 'House']\n",
    "df_chord_house.reset_index(drop=True, inplace=True)\n",
    "\n",
    "df_chord_futurebass = df_chord.loc[df_chord.genre == 'Future Bass']\n",
    "df_chord_futurebass.reset_index(drop=True, inplace=True)\n",
    "\n",
    "df_chord_multigenre = df_chord.loc[df_chord.genre == 'Multigenre']\n",
    "df_chord_multigenre.reset_index(drop=True, inplace=True)\n",
    "\n",
    "df_chord_techno = df_chord.loc[df_chord.genre == 'Techno']\n",
    "df_chord_techno.reset_index(drop=True, inplace=True)\n",
    "\n",
    "df_chord_other = df_chord.loc[df_chord.genre == 'Other']\n",
    "df_chord_other.reset_index(drop=True, inplace=True)"
   ]
  },
  {
   "cell_type": "code",
   "execution_count": 32,
   "metadata": {},
   "outputs": [
    {
     "name": "stdout",
     "output_type": "stream",
     "text": [
      "House: 19\n",
      "Future Bass: 14\n",
      "Multigenre: 12\n",
      "Techno: 5\n",
      "Other: 4\n"
     ]
    }
   ],
   "source": [
    "print(\"House: \" + str(len(df_chord_house)))\n",
    "print(\"Future Bass: \" + str(len(df_chord_futurebass)))\n",
    "print(\"Multigenre: \" + str(len(df_chord_multigenre)))\n",
    "print(\"Techno: \" + str(len(df_chord_techno)))\n",
    "print(\"Other: \" + str(len(df_chord_other)))"
   ]
  },
  {
   "cell_type": "code",
   "execution_count": 33,
   "metadata": {},
   "outputs": [],
   "source": [
    "df_chord_list = [df_chord_house, df_chord_futurebass, df_chord_multigenre, df_chord_techno, df_chord_other]\n",
    "\n",
    "df_chord_final = concat_data(df_chord_list, 19)"
   ]
  },
  {
   "cell_type": "code",
   "execution_count": 34,
   "metadata": {},
   "outputs": [],
   "source": [
    "# df_chord_final.to_csv('data/chord_train.csv', index=False)\n"
   ]
  },
  {
   "cell_type": "markdown",
   "metadata": {},
   "source": [
    "# Arp"
   ]
  },
  {
   "cell_type": "code",
   "execution_count": 35,
   "metadata": {},
   "outputs": [],
   "source": [
    "df_arp = df.loc[df.sound_type == 'Arp']\n",
    "df_arp.reset_index(drop=True, inplace=True)\n",
    "\n",
    "###select by genre\n",
    "df_arp_multigenre = df_arp.loc[df_arp.genre == 'Multigenre']\n",
    "df_arp_multigenre.reset_index(drop=True, inplace=True)\n",
    "\n",
    "df_arp_synthwave = df_arp.loc[df_arp.genre == 'Synthwave']\n",
    "df_arp_synthwave.reset_index(drop=True, inplace=True)\n",
    "\n",
    "# df_arp_trance = df_arp.loc[df_arp.genre == 'Trance']\n",
    "# df_arp_trance.reset_index(drop=True, inplace=True)\n",
    "\n",
    "df_arp_futurebass = df_arp.loc[df_arp.genre == 'Future Bass']\n",
    "df_arp_futurebass.reset_index(drop=True, inplace=True)\n",
    "\n",
    "df_arp_other = df_arp.loc[df_arp.genre == 'Other']\n",
    "df_arp_other.reset_index(drop=True, inplace=True)\n",
    "\n",
    "df_arp_hiphoprnb = df_arp.loc[df_arp.genre == 'Hip-Hop / R&B']\n",
    "df_arp_hiphoprnb.reset_index(drop=True, inplace=True)\n",
    "\n",
    "# df_arp_ambient = df_arp.loc[df_arp.genre == 'Ambient']\n",
    "# df_arp_ambient.reset_index(drop=True, inplace=True)\n",
    "\n"
   ]
  },
  {
   "cell_type": "code",
   "execution_count": 36,
   "metadata": {},
   "outputs": [
    {
     "name": "stdout",
     "output_type": "stream",
     "text": [
      "Multigenre: 17\n",
      "Synthwave: 4\n",
      "Future Bass: 3\n",
      "Other: 3\n"
     ]
    }
   ],
   "source": [
    "print(\"Multigenre: \" + str(len(df_arp_multigenre)))\n",
    "print(\"Synthwave: \" + str(len(df_arp_synthwave)))\n",
    "# print(\"Trance: \" + str(len(df_arp_trance)))\n",
    "print(\"Future Bass: \" + str(len(df_arp_futurebass)))\n",
    "print(\"Other: \" + str(len(df_arp_other)))\n",
    "# print(\"Ambient: \" + str(len(df_arp_ambient)))"
   ]
  },
  {
   "cell_type": "code",
   "execution_count": 37,
   "metadata": {},
   "outputs": [],
   "source": [
    "df_arp_list = [df_arp_multigenre, df_arp_synthwave, df_arp_futurebass, df_arp_other]\n",
    "\n",
    "df_arp_final = concat_data(df_arp_list, 17)"
   ]
  },
  {
   "cell_type": "code",
   "execution_count": 38,
   "metadata": {},
   "outputs": [],
   "source": [
    "# df_arp_final.to_csv('data/arp_train.csv', index=False)"
   ]
  },
  {
   "cell_type": "code",
   "execution_count": null,
   "metadata": {},
   "outputs": [],
   "source": []
  }
 ],
 "metadata": {
  "kernelspec": {
   "display_name": "new_preset",
   "language": "python",
   "name": "python3"
  },
  "language_info": {
   "codemirror_mode": {
    "name": "ipython",
    "version": 3
   },
   "file_extension": ".py",
   "mimetype": "text/x-python",
   "name": "python",
   "nbconvert_exporter": "python",
   "pygments_lexer": "ipython3",
   "version": "3.9.19"
  }
 },
 "nbformat": 4,
 "nbformat_minor": 2
}
